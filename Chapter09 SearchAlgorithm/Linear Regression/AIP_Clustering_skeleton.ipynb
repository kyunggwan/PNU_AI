{
  "cells": [
    {
      "cell_type": "markdown",
      "metadata": {
        "id": "d_mMtNoelsd5"
      },
      "source": [
        "#### Code Reference: Python Machine Learning, 3rd Ed. (ISBN-10: 1789955750)"
      ]
    },
    {
      "cell_type": "code",
      "execution_count": null,
      "metadata": {
        "execution": {
          "iopub.execute_input": "2021-10-23T10:43:42.673735Z",
          "iopub.status.busy": "2021-10-23T10:43:42.672737Z",
          "iopub.status.idle": "2021-10-23T10:43:42.675419Z",
          "shell.execute_reply": "2021-10-23T10:43:42.674810Z"
        },
        "id": "5e8TX0F_lsd6"
      },
      "outputs": [],
      "source": [
        "from IPython.display import Image"
      ]
    },
    {
      "cell_type": "markdown",
      "metadata": {
        "id": "_jp38ToZlsd7"
      },
      "source": [
        "# Grouping objects by similarity using k-means"
      ]
    },
    {
      "cell_type": "markdown",
      "metadata": {
        "id": "QUiYlcuHlsd7"
      },
      "source": [
        "## K-means clustering using scikit-learn"
      ]
    },
    {
      "cell_type": "code",
      "execution_count": null,
      "metadata": {
        "execution": {
          "iopub.execute_input": "2021-10-23T10:43:42.682177Z",
          "iopub.status.busy": "2021-10-23T10:43:42.681039Z",
          "iopub.status.idle": "2021-10-23T10:43:43.241935Z",
          "shell.execute_reply": "2021-10-23T10:43:43.242402Z"
        },
        "id": "jbzyHg5Elsd7"
      },
      "outputs": [],
      "source": [
        "from sklearn.datasets import make_blobs\n",
        "\n",
        "X, y = make_blobs(n_samples=150, \n",
        "                  n_features=2, \n",
        "                  centers=3, \n",
        "                  cluster_std=0.5, \n",
        "                  shuffle=True, \n",
        "                  random_state=0)"
      ]
    },
    {
      "cell_type": "code",
      "execution_count": null,
      "metadata": {
        "execution": {
          "iopub.execute_input": "2021-10-23T10:43:43.248642Z",
          "iopub.status.busy": "2021-10-23T10:43:43.247389Z",
          "iopub.status.idle": "2021-10-23T10:43:43.612366Z",
          "shell.execute_reply": "2021-10-23T10:43:43.612836Z"
        },
        "id": "ROCmGQl9lsd8"
      },
      "outputs": [],
      "source": [
        "import matplotlib.pyplot as plt\n",
        "\n",
        "plt.scatter(X[:, 0], X[:, 1], \n",
        "            c='white', marker='o', edgecolor='black', s=50)\n",
        "plt.grid()\n",
        "plt.tight_layout()\n",
        "# plt.savefig('images/11_01.png', dpi=300)\n",
        "plt.show()"
      ]
    },
    {
      "cell_type": "code",
      "execution_count": null,
      "metadata": {
        "execution": {
          "iopub.execute_input": "2021-10-23T10:43:43.618756Z",
          "iopub.status.busy": "2021-10-23T10:43:43.617747Z",
          "iopub.status.idle": "2021-10-23T10:43:44.142684Z",
          "shell.execute_reply": "2021-10-23T10:43:44.143242Z"
        },
        "id": "6t8fxe8hlsd8"
      },
      "outputs": [],
      "source": [
        "from sklearn.cluster import KMeans\n",
        "\n",
        "# TODO: KMeans class를 사용하되, init='random' argument를 사용하세요.\n",
        "km = \n",
        "\n",
        "y_km = km.fit_predict(X)"
      ]
    },
    {
      "cell_type": "code",
      "execution_count": null,
      "metadata": {
        "execution": {
          "iopub.execute_input": "2021-10-23T10:43:44.147813Z",
          "iopub.status.busy": "2021-10-23T10:43:44.146671Z",
          "iopub.status.idle": "2021-10-23T10:43:44.340066Z",
          "shell.execute_reply": "2021-10-23T10:43:44.340856Z"
        },
        "id": "uH6KDjPglsd8"
      },
      "outputs": [],
      "source": [
        "plt.scatter(X[y_km == 0, 0],\n",
        "            X[y_km == 0, 1],\n",
        "            s=50, c='lightgreen',\n",
        "            marker='s', edgecolor='black',\n",
        "            label='Cluster 1')\n",
        "plt.scatter(X[y_km == 1, 0],\n",
        "            X[y_km == 1, 1],\n",
        "            s=50, c='orange',\n",
        "            marker='o', edgecolor='black',\n",
        "            label='Cluster 2')\n",
        "plt.scatter(X[y_km == 2, 0],\n",
        "            X[y_km == 2, 1],\n",
        "            s=50, c='lightblue',\n",
        "            marker='v', edgecolor='black',\n",
        "            label='Cluster 3')\n",
        "plt.scatter(km.cluster_centers_[:, 0],\n",
        "            km.cluster_centers_[:, 1],\n",
        "            s=250, marker='*',\n",
        "            c='red', edgecolor='black',\n",
        "            label='Centroids')\n",
        "plt.legend(scatterpoints=1)\n",
        "plt.grid()\n",
        "plt.tight_layout()\n",
        "# plt.savefig('images/11_02.png', dpi=300)\n",
        "plt.show()"
      ]
    },
    {
      "cell_type": "markdown",
      "metadata": {
        "id": "c9JXA1PRlsd9"
      },
      "source": [
        "<br>"
      ]
    },
    {
      "cell_type": "markdown",
      "metadata": {
        "id": "8jLodeOrlsd_"
      },
      "source": [
        "Comparison to \"bad\" clustering:"
      ]
    },
    {
      "cell_type": "code",
      "execution_count": null,
      "metadata": {
        "execution": {
          "iopub.execute_input": "2021-10-23T10:43:49.481805Z",
          "iopub.status.busy": "2021-10-23T10:43:49.480893Z",
          "iopub.status.idle": "2021-10-23T10:43:50.074506Z",
          "shell.execute_reply": "2021-10-23T10:43:50.074981Z"
        },
        "id": "1xzn7tXVlsd_"
      },
      "outputs": [],
      "source": [
        "# TODO: KMeans의 class를 2개로 설정해서 잘못된 clustering을 그려보세요.\n",
        "km = \n",
        "\n",
        "y_km = km.fit_predict(X)\n",
        "\n",
        "plt.scatter(X[y_km == 0, 0],\n",
        "            X[y_km == 0, 1],\n",
        "            s=50,\n",
        "            c='lightgreen',\n",
        "            edgecolor='black',\n",
        "            marker='s',\n",
        "            label='Cluster 1')\n",
        "plt.scatter(X[y_km == 1, 0],\n",
        "            X[y_km == 1, 1],\n",
        "            s=50,\n",
        "            c='orange',\n",
        "            edgecolor='black',\n",
        "            marker='o',\n",
        "            label='Cluster 2')\n",
        "\n",
        "plt.scatter(km.cluster_centers_[:, 0], km.cluster_centers_[:, 1],\n",
        "            s=250, marker='*', c='red', label='Centroids')\n",
        "plt.legend()\n",
        "plt.grid()\n",
        "plt.tight_layout()\n",
        "# plt.savefig('images/11_05.png', dpi=300)\n",
        "plt.show()"
      ]
    },
    {
      "cell_type": "markdown",
      "metadata": {
        "id": "SeFVp46blseD"
      },
      "source": [
        "# Locating regions of high density via DBSCAN"
      ]
    },
    {
      "cell_type": "code",
      "execution_count": null,
      "metadata": {
        "execution": {
          "iopub.execute_input": "2021-10-23T10:43:51.274506Z",
          "iopub.status.busy": "2021-10-23T10:43:51.272206Z",
          "iopub.status.idle": "2021-10-23T10:43:51.403204Z",
          "shell.execute_reply": "2021-10-23T10:43:51.404107Z"
        },
        "id": "mOADI80ulseE"
      },
      "outputs": [],
      "source": [
        "from sklearn.datasets import make_moons\n",
        "\n",
        "X, y = make_moons(n_samples=200, noise=0.05, random_state=0)\n",
        "plt.scatter(X[:, 0], X[:, 1])\n",
        "plt.tight_layout()\n",
        "# plt.savefig('images/11_14.png', dpi=300)\n",
        "plt.show()"
      ]
    },
    {
      "cell_type": "markdown",
      "metadata": {
        "id": "3CUCHqITlseE"
      },
      "source": [
        "K-means and hierarchical clustering:"
      ]
    },
    {
      "cell_type": "code",
      "execution_count": null,
      "metadata": {
        "execution": {
          "iopub.execute_input": "2021-10-23T10:43:51.435318Z",
          "iopub.status.busy": "2021-10-23T10:43:51.433727Z",
          "iopub.status.idle": "2021-10-23T10:43:52.183064Z",
          "shell.execute_reply": "2021-10-23T10:43:52.183584Z"
        },
        "id": "JCnbs2-ElseE"
      },
      "outputs": [],
      "source": [
        "from sklearn.cluster import AgglomerativeClustering\n",
        "\n",
        "f, (ax1, ax2) = plt.subplots(1, 2, figsize=(8, 3))\n",
        "\n",
        "# TODO: KMeans를 이용해서 위 데이터를 Clustering해 보세요.\n",
        "km = \n",
        "\n",
        "y_km = km.fit_predict(X)\n",
        "ax1.scatter(X[y_km == 0, 0], X[y_km == 0, 1],\n",
        "            edgecolor='black',\n",
        "            c='lightblue', marker='o', s=40, label='cluster 1')\n",
        "ax1.scatter(X[y_km == 1, 0], X[y_km == 1, 1],\n",
        "            edgecolor='black',\n",
        "            c='red', marker='s', s=40, label='cluster 2')\n",
        "ax1.set_title('K-means clustering')\n",
        "\n",
        "# TODO: AgglomerativeClustering 함수의 사용법을 검색해 보고, Clustering 해 보세요.\n",
        "ac = \n",
        "\n",
        "y_ac = ac.fit_predict(X)\n",
        "ax2.scatter(X[y_ac == 0, 0], X[y_ac == 0, 1], c='lightblue',\n",
        "            edgecolor='black',\n",
        "            marker='o', s=40, label='Cluster 1')\n",
        "ax2.scatter(X[y_ac == 1, 0], X[y_ac == 1, 1], c='red',\n",
        "            edgecolor='black',\n",
        "            marker='s', s=40, label='Cluster 2')\n",
        "ax2.set_title('Agglomerative clustering')\n",
        "\n",
        "plt.legend()\n",
        "plt.tight_layout()\n",
        "# plt.savefig('images/11_15.png', dpi=300)\n",
        "plt.show()"
      ]
    },
    {
      "cell_type": "markdown",
      "metadata": {
        "id": "SpDTGZZXlseE"
      },
      "source": [
        "Density-based clustering:"
      ]
    },
    {
      "cell_type": "code",
      "execution_count": null,
      "metadata": {
        "execution": {
          "iopub.execute_input": "2021-10-23T10:43:52.214893Z",
          "iopub.status.busy": "2021-10-23T10:43:52.193827Z",
          "iopub.status.idle": "2021-10-23T10:43:52.358940Z",
          "shell.execute_reply": "2021-10-23T10:43:52.359384Z"
        },
        "id": "hVZeyHtSlseE"
      },
      "outputs": [],
      "source": [
        "from sklearn.cluster import DBSCAN\n",
        "\n",
        "# DBSCAN: 밀도 기반의 Clustering 기법\n",
        "\n",
        "# TODO: DBSCAN의 함수의 사용법을 검색해 보고, Clustering 해 보세요.\n",
        "db = \n",
        "\n",
        "y_db = db.fit_predict(X)\n",
        "plt.scatter(X[y_db == 0, 0], X[y_db == 0, 1],\n",
        "            c='lightblue', marker='o', s=40,\n",
        "            edgecolor='black', \n",
        "            label='Cluster 1')\n",
        "plt.scatter(X[y_db == 1, 0], X[y_db == 1, 1],\n",
        "            c='red', marker='s', s=40,\n",
        "            edgecolor='black', \n",
        "            label='Cluster 2')\n",
        "plt.legend()\n",
        "plt.tight_layout()\n",
        "# plt.savefig('images/11_16.png', dpi=300)\n",
        "plt.show()"
      ]
    },
    {
      "cell_type": "markdown",
      "source": [
        "# 과제: 새로운 데이터셋을 이용해 Clustering을 실시해 보세요.\n",
        "\n",
        "Wine dataset을 이용해 Clustering을 실시해 보세요.\n",
        "Attribute 2개를 선택해 실시해 보세요.\n",
        "\n",
        "Clustering이 잘 되었는지 위 그림들 처럼 Plot하여 확인 해 보세요.\n",
        "\n",
        "- StandardScaler의 사용 여부에 따른 결과를 비교해 보세요.\n",
        "- 어떤 Attribute가 Wine dataset에 효과적인지 찾아보세요."
      ],
      "metadata": {
        "id": "_MshHAb6k8Wl"
      }
    },
    {
      "cell_type": "code",
      "source": [
        "# Wine 데이터셋 불러오기\n",
        "digit_data = datasets.load_wine()\n",
        "\n",
        "X_orig = digit_data.data\n",
        "y = digit_data.target"
      ],
      "metadata": {
        "id": "dESuf9mwlI3r"
      },
      "execution_count": null,
      "outputs": []
    },
    {
      "cell_type": "code",
      "source": [
        "# 사용하고자 하는 Attribute 2개 선택 (0 ~ 12 중에 2가지를 선택해 보세요)\n",
        "\n",
        "i1 = \n",
        "i2 = \n",
        "X = X_orig[:, [i1, i2]]"
      ],
      "metadata": {
        "id": "m0buIgTjljcS"
      },
      "execution_count": null,
      "outputs": []
    },
    {
      "cell_type": "code",
      "source": [
        "from sklearn.preprocessing import StandardScaler\n",
        "\n",
        "# StandardScaler의 사용 여부에 따른 결과 비교하기\n"
      ],
      "metadata": {
        "id": "l-lEIuUFQXQA"
      },
      "execution_count": null,
      "outputs": []
    },
    {
      "cell_type": "code",
      "source": [
        "X.shape"
      ],
      "metadata": {
        "id": "HlQOzGWNlq3s"
      },
      "execution_count": null,
      "outputs": []
    },
    {
      "cell_type": "code",
      "source": [
        "y.shape"
      ],
      "metadata": {
        "id": "aRr-b3n2lqwl"
      },
      "execution_count": null,
      "outputs": []
    },
    {
      "cell_type": "markdown",
      "source": [
        "## 추가 과제 : Attribute 3개를 써서 Clustering을 실시해 보세요.\n",
        "Plot은 동일하게 scatter 를 쓰면 됩니다."
      ],
      "metadata": {
        "id": "NPyFdDAKMRLe"
      }
    },
    {
      "cell_type": "code",
      "source": [
        "# 3D scatter plot 예시\n",
        "import numpy as np\n",
        "xx = np.random.rand(10)\n",
        "yy = np.random.rand(10)\n",
        "zz = np.random.rand(10)\n",
        "\n",
        "fig = plt.figure()\n",
        "ax = fig.gca(projection='3d')\n",
        "\n",
        "ax.scatter(xx, yy, zz, c='lightgreen',\n",
        "            marker='s', edgecolor='black',\n",
        "            label='Points')\n",
        "plt.grid()\n",
        "plt.tight_layout()\n",
        "# plt.savefig('images/11_02.png', dpi=300)\n",
        "plt.show()"
      ],
      "metadata": {
        "id": "WWI67EGrMQlh"
      },
      "execution_count": null,
      "outputs": []
    },
    {
      "cell_type": "code",
      "source": [
        "# Wine 데이터셋 불러오기\n",
        "digit_data = datasets.load_wine()\n",
        "\n",
        "X_orig = digit_data.data\n",
        "y = digit_data.target"
      ],
      "metadata": {
        "id": "liCMY6wROEJw"
      },
      "execution_count": null,
      "outputs": []
    }
  ],
  "metadata": {
    "anaconda-cloud": {},
    "colab": {
      "provenance": []
    },
    "kernelspec": {
      "display_name": "Python 3",
      "language": "python",
      "name": "python3"
    },
    "language_info": {
      "codemirror_mode": {
        "name": "ipython",
        "version": 3
      },
      "file_extension": ".py",
      "mimetype": "text/x-python",
      "name": "python",
      "nbconvert_exporter": "python",
      "pygments_lexer": "ipython3",
      "version": "3.7.3"
    }
  },
  "nbformat": 4,
  "nbformat_minor": 0
}