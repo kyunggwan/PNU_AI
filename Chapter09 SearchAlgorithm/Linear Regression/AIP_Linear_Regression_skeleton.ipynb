{
  "cells": [
    {
      "cell_type": "markdown",
      "metadata": {
        "id": "4B2LOyUc1tKQ"
      },
      "source": [
        "# Lab: Linear Regression"
      ]
    },
    {
      "cell_type": "code",
      "execution_count": null,
      "metadata": {},
      "outputs": [],
      "source": [
        "!pip install scikit-learn pandas"
      ]
    },
    {
      "cell_type": "code",
      "execution_count": null,
      "metadata": {
        "id": "wpiupY6F1tKS"
      },
      "outputs": [],
      "source": [
        "from IPython.display import Image"
      ]
    },
    {
      "cell_type": "markdown",
      "metadata": {
        "id": "UgnD_IoV1tKT"
      },
      "source": [
        "# 주택 데이터셋 탐색"
      ]
    },
    {
      "cell_type": "markdown",
      "metadata": {
        "id": "KGredWvS1tKU"
      },
      "source": [
        "## 데이터프레임으로 주택 데이터셋 읽기"
      ]
    },
    {
      "cell_type": "markdown",
      "metadata": {
        "id": "yMZ0zxuJ1tKU"
      },
      "source": [
        "Description, which was previously available at: [https://archive.ics.uci.edu/ml/datasets/Housing](https://archive.ics.uci.edu/ml/datasets/Housing)\n",
        "\n",
        "Attributes:\n",
        "    \n",
        "<pre>\n",
        "1. CRIM      per capita crime rate by town\n",
        "2. ZN        proportion of residential land zoned for lots over \n",
        "                 25,000 sq.ft.\n",
        "3. INDUS     proportion of non-retail business acres per town\n",
        "4. CHAS      Charles River dummy variable (= 1 if tract bounds \n",
        "                 river; 0 otherwise)\n",
        "5. NOX       nitric oxides concentration (parts per 10 million)\n",
        "6. RM        average number of rooms per dwelling\n",
        "7. AGE       proportion of owner-occupied units built prior to 1940\n",
        "8. DIS       weighted distances to five Boston employment centres\n",
        "9. RAD       index of accessibility to radial highways\n",
        "10. TAX      full-value property-tax rate per $10,000\n",
        "11. PTRATIO  pupil-teacher ratio by town\n",
        "12. B        1000(Bk - 0.63)^2 where Bk is the proportion of blacks \n",
        "                 by town\n",
        "13. LSTAT    % lower status of the population\n",
        "14. MEDV     Median value of owner-occupied homes in $1000s\n",
        "</pre>"
      ]
    },
    {
      "cell_type": "code",
      "execution_count": null,
      "metadata": {
        "colab": {
          "base_uri": "https://localhost:8080/",
          "height": 206
        },
        "id": "aQR7x5yN1tKU",
        "outputId": "ab4a0023-4c33-4ae3-b7d8-1c9d7b5f71d2"
      },
      "outputs": [],
      "source": [
        "import pandas as pd\n",
        "\n",
        "df = pd.read_csv('https://raw.githubusercontent.com/rasbt/'\n",
        "                 'python-machine-learning-book-3rd-edition/'\n",
        "                 'master/ch10/housing.data.txt',\n",
        "                 header=None,\n",
        "                 sep='\\s+')\n",
        "\n",
        "df.columns = ['CRIM', 'ZN', 'INDUS', 'CHAS', \n",
        "              'NOX', 'RM', 'AGE', 'DIS', 'RAD', \n",
        "              'TAX', 'PTRATIO', 'B', 'LSTAT', 'MEDV']\n",
        "df.head()"
      ]
    },
    {
      "cell_type": "markdown",
      "metadata": {
        "id": "7cFgvZQo1tKU"
      },
      "source": [
        "<br>\n",
        "<br>"
      ]
    },
    {
      "cell_type": "code",
      "execution_count": null,
      "metadata": {
        "colab": {
          "base_uri": "https://localhost:8080/",
          "height": 206
        },
        "id": "8-WbWVRiFY2R",
        "outputId": "a3f7e7b4-6967-46bc-81e3-29c25e32eec2"
      },
      "outputs": [],
      "source": [
        "df.tail()"
      ]
    },
    {
      "cell_type": "markdown",
      "metadata": {
        "id": "3E8VVxoW1tKV"
      },
      "source": [
        "## 데이터셋의 중요 특징 시각화"
      ]
    },
    {
      "cell_type": "markdown",
      "metadata": {
        "id": "dkPbWUdJ1tKV"
      },
      "source": [
        "`mlxtend`를 설치합니다."
      ]
    },
    {
      "cell_type": "code",
      "execution_count": null,
      "metadata": {
        "colab": {
          "base_uri": "https://localhost:8080/"
        },
        "id": "-rbh3t_I1tKV",
        "outputId": "52690f08-bb4b-4b6e-dc63-28dcc10935a2"
      },
      "outputs": [],
      "source": [
        "!pip install --upgrade mlxtend"
      ]
    },
    {
      "cell_type": "code",
      "execution_count": null,
      "metadata": {
        "id": "ovQejiCk1tKV"
      },
      "outputs": [],
      "source": [
        "import matplotlib.pyplot as plt\n",
        "from mlxtend.plotting import scatterplotmatrix"
      ]
    },
    {
      "cell_type": "code",
      "execution_count": null,
      "metadata": {
        "colab": {
          "base_uri": "https://localhost:8080/",
          "height": 585
        },
        "id": "lZm944Yd1tKV",
        "outputId": "7b372583-52ca-4285-bb42-4f5271f685b4"
      },
      "outputs": [],
      "source": [
        "# 'CRIM', 'LSTAT', 'INDUS', 'NOX', 'RM', 'MEDV' 변수를 이용해 scatterplotmatrix 출력 해보기\n",
        "\n",
        "# list로 분석하고자 하는 변수의 이름을 넣어주면 사용 가능\n",
        "cols = \n",
        "\n",
        "scatterplotmatrix(df[cols].values, figsize=(10, 8), \n",
        "                  names=cols, alpha=0.5)\n",
        "plt.tight_layout()\n",
        "# plt.savefig('images/10_03.png', dpi=300)\n",
        "plt.show()"
      ]
    },
    {
      "cell_type": "code",
      "execution_count": null,
      "metadata": {
        "colab": {
          "base_uri": "https://localhost:8080/",
          "height": 289
        },
        "id": "ktKWoNJU1tKV",
        "outputId": "cae9c5c8-55eb-461d-c300-f23337ae409a"
      },
      "outputs": [],
      "source": [
        "import numpy as np\n",
        "from mlxtend.plotting import heatmap\n",
        "\n",
        "\n",
        "cm = np.corrcoef(df[cols].values.T)\n",
        "hm = heatmap(cm, row_names=cols, column_names=cols)\n",
        "\n",
        "# plt.savefig('images/10_04.png', dpi=300)\n",
        "plt.show()"
      ]
    },
    {
      "cell_type": "markdown",
      "metadata": {
        "id": "yKrHqvSi1tKW"
      },
      "source": [
        "<br>\n",
        "<br>"
      ]
    },
    {
      "cell_type": "markdown",
      "metadata": {
        "id": "6obs7V3b1tKW"
      },
      "source": [
        "## Simple Linear Regression"
      ]
    },
    {
      "cell_type": "code",
      "execution_count": null,
      "metadata": {
        "id": "NJbc8JKd1tKW"
      },
      "outputs": [],
      "source": [
        "# 두 변수를 설정\n",
        "# X = 입력\n",
        "# y = 출력 (집값)\n",
        "\n",
        "X = \n",
        "y = "
      ]
    },
    {
      "cell_type": "code",
      "execution_count": null,
      "metadata": {
        "id": "MGjlL_aW1tKW"
      },
      "outputs": [],
      "source": [
        "from sklearn.preprocessing import StandardScaler\n",
        "\n",
        "\n",
        "sc_x = StandardScaler()\n",
        "sc_y = StandardScaler()\n",
        "\n",
        "# fit_transform\n",
        "X_std = \n",
        "y_std = "
      ]
    },
    {
      "cell_type": "code",
      "execution_count": null,
      "metadata": {
        "id": "r6MV5DrE1tKZ"
      },
      "outputs": [],
      "source": [
        "from sklearn.linear_model import LinearRegression"
      ]
    },
    {
      "cell_type": "code",
      "execution_count": null,
      "metadata": {
        "colab": {
          "base_uri": "https://localhost:8080/"
        },
        "id": "d0DX-mrw1tKZ",
        "outputId": "5afa94b4-d856-405b-c65a-34e4d10d2165"
      },
      "outputs": [],
      "source": [
        "slr = LinearRegression()\n",
        "\n",
        "# fit 실시\n",
        "\n",
        "y_pred = \n",
        "\n",
        "print('기울기: %.3f' % slr.coef_[0])\n",
        "print('절편: %.3f' % slr.intercept_)"
      ]
    },
    {
      "cell_type": "code",
      "execution_count": null,
      "metadata": {
        "colab": {
          "base_uri": "https://localhost:8080/"
        },
        "id": "1YAlxdz7F3MR",
        "outputId": "7cf5ad47-564a-4c25-e873-982265a2abfb"
      },
      "outputs": [],
      "source": [
        "slr_std = LinearRegression()\n",
        "\n",
        "\n",
        "y_pred_std = \n",
        "\n",
        "print('기울기: %.3f' % slr_std.coef_[0])\n",
        "print('절편: %.3f' % slr_std.intercept_)"
      ]
    },
    {
      "cell_type": "code",
      "execution_count": null,
      "metadata": {
        "colab": {
          "base_uri": "https://localhost:8080/"
        },
        "id": "Qbbp_GLnGELe",
        "outputId": "06602619-4fd8-4110-c544-d85e7c959843"
      },
      "outputs": [],
      "source": [
        "X"
      ]
    },
    {
      "cell_type": "code",
      "execution_count": null,
      "metadata": {
        "colab": {
          "base_uri": "https://localhost:8080/"
        },
        "id": "kUo4sYzHGG5V",
        "outputId": "c639d281-1dfd-444a-d804-6ce424a6b4f7"
      },
      "outputs": [],
      "source": [
        "X_std"
      ]
    },
    {
      "cell_type": "code",
      "execution_count": null,
      "metadata": {
        "id": "bmzPArPaP9Wh"
      },
      "outputs": [],
      "source": [
        "def lin_regplot(X, y, model):\n",
        "    plt.scatter(X, y, c='steelblue', edgecolor='white', s=70)\n",
        "    plt.plot(X, model.predict(X), color='black', lw=2)    \n",
        "    return "
      ]
    },
    {
      "cell_type": "code",
      "execution_count": null,
      "metadata": {
        "colab": {
          "base_uri": "https://localhost:8080/",
          "height": 279
        },
        "id": "qZU7nLfj1tKZ",
        "outputId": "42696ee5-0ec4-4457-da85-4cb53c9ce612"
      },
      "outputs": [],
      "source": [
        "lin_regplot(X, y, slr)\n",
        "plt.xlabel('Average number of rooms [RM]')\n",
        "plt.ylabel('Price in $1000s [MEDV]')\n",
        "\n",
        "# plt.savefig('images/10_07.png', dpi=300)\n",
        "plt.show()"
      ]
    },
    {
      "cell_type": "code",
      "execution_count": null,
      "metadata": {
        "colab": {
          "base_uri": "https://localhost:8080/",
          "height": 279
        },
        "id": "IrCmhcNEGSMG",
        "outputId": "3e223dcb-5d27-42a0-c36b-ec728742b44c"
      },
      "outputs": [],
      "source": [
        "lin_regplot(X_std, y_std, slr_std)\n",
        "plt.xlabel('Average number of rooms [RM]')\n",
        "plt.ylabel('Price in $1000s [MEDV]')\n",
        "\n",
        "# plt.savefig('images/10_07.png', dpi=300)\n",
        "plt.show()"
      ]
    },
    {
      "cell_type": "markdown",
      "metadata": {
        "id": "zczk-FVd1tKc"
      },
      "source": [
        "## Multiple Linear Regression"
      ]
    },
    {
      "cell_type": "code",
      "execution_count": null,
      "metadata": {
        "id": "YfKd5aYxGRv2"
      },
      "outputs": [],
      "source": []
    },
    {
      "cell_type": "code",
      "execution_count": null,
      "metadata": {
        "id": "0nmvnp_u1tKc"
      },
      "outputs": [],
      "source": [
        "from sklearn.model_selection import train_test_split\n",
        "\n",
        "# 모든 변수를 X로 설정\n",
        "X = \n",
        "# 집값을 y로 설정\n",
        "y = \n",
        "\n",
        "# train, test 데이터로 분리\n",
        "X_train, X_test, y_train, y_test = "
      ]
    },
    {
      "cell_type": "code",
      "execution_count": null,
      "metadata": {
        "id": "MekaJdBn1tKc"
      },
      "outputs": [],
      "source": [
        "slr = LinearRegression()\n",
        "\n",
        "\n",
        "y_train_pred = \n",
        "y_test_pred = "
      ]
    },
    {
      "cell_type": "code",
      "execution_count": null,
      "metadata": {
        "colab": {
          "base_uri": "https://localhost:8080/",
          "height": 297
        },
        "id": "7wpTQegl1tKd",
        "outputId": "173940b1-6330-49d9-b4db-9fa97b105307"
      },
      "outputs": [],
      "source": [
        "plt.scatter(y_train_pred,  y_train_pred - y_train,\n",
        "            c='steelblue', marker='o', edgecolor='white',\n",
        "            label='Training data')\n",
        "plt.scatter(y_test_pred,  y_test_pred - y_test,\n",
        "            c='limegreen', marker='s', edgecolor='white',\n",
        "            label='Test data')\n",
        "plt.xlabel('Predicted values')\n",
        "plt.ylabel('Residuals')\n",
        "plt.legend(loc='upper left')\n",
        "plt.hlines(y=0, xmin=-10, xmax=50, color='black', lw=2)\n",
        "plt.xlim([-10, 50])\n",
        "plt.tight_layout()\n",
        "\n",
        "# plt.savefig('images/10_09.png', dpi=300)\n",
        "plt.show()"
      ]
    },
    {
      "cell_type": "code",
      "execution_count": null,
      "metadata": {
        "colab": {
          "base_uri": "https://localhost:8080/"
        },
        "id": "EqTuey4S1tKd",
        "outputId": "ddce7282-e6ed-4904-be0b-3363ac0ead1a"
      },
      "outputs": [],
      "source": [
        "from sklearn.metrics import r2_score\n",
        "from sklearn.metrics import mean_squared_error\n",
        "\n",
        "print('훈련 MSE: %.3f, 테스트 MSE: %.3f' % (\n",
        "        mean_squared_error(y_train, y_train_pred),\n",
        "        mean_squared_error(y_test, y_test_pred)))\n",
        "print('훈련 R^2: %.3f, 테스트 R^2: %.3f' % (\n",
        "        r2_score(y_train, y_train_pred),\n",
        "        r2_score(y_test, y_test_pred)))"
      ]
    }
  ],
  "metadata": {
    "colab": {
      "provenance": []
    },
    "kernelspec": {
      "display_name": "Python 3",
      "language": "python",
      "name": "python3"
    },
    "language_info": {
      "codemirror_mode": {
        "name": "ipython",
        "version": 3
      },
      "file_extension": ".py",
      "mimetype": "text/x-python",
      "name": "python",
      "nbconvert_exporter": "python",
      "pygments_lexer": "ipython3",
      "version": "3.9.13 (tags/v3.9.13:6de2ca5, May 17 2022, 16:36:42) [MSC v.1929 64 bit (AMD64)]"
    },
    "vscode": {
      "interpreter": {
        "hash": "fe5fe42e8265b0233a98609db62cc6183951848584a0a11492e1aba015613f33"
      }
    }
  },
  "nbformat": 4,
  "nbformat_minor": 0
}
